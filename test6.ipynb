{
 "cells": [
  {
   "cell_type": "code",
   "execution_count": 4,
   "metadata": {},
   "outputs": [],
   "source": [
    "import numpy as np\n",
    "import urllib.request\n",
    "import ssl\n",
    "from PIL import Image\n",
    "import io\n",
    "\n",
    "# Create an unverified SSL context\n",
    "ssl_context = ssl._create_unverified_context()\n",
    "\n",
    "# Define the image URL\n",
    "image_src = \"https://56fa32efe8bd3d139e.gradio.live/file=/content/drive/MyDrive/Fooocus/outputs/2024-06-14/2024-06-14_10-47-05_9036.png\"\n",
    "\n",
    "# Open the URL and read the image into a byte array\n",
    "req = urllib.request.urlopen(image_src, context=ssl_context)\n",
    "arr = np.asarray(bytearray(req.read()), dtype=np.uint8)\n",
    "\n",
    "# Convert the byte array to a BytesIO object\n",
    "image_bytes = io.BytesIO(arr)\n",
    "\n",
    "# Open the image using PIL\n",
    "pil_image = Image.open(image_bytes)\n",
    "\n",
    "# Display the image\n",
    "pil_image.show()\n"
   ]
  }
 ],
 "metadata": {
  "kernelspec": {
   "display_name": ".venv",
   "language": "python",
   "name": "python3"
  },
  "language_info": {
   "codemirror_mode": {
    "name": "ipython",
    "version": 3
   },
   "file_extension": ".py",
   "mimetype": "text/x-python",
   "name": "python",
   "nbconvert_exporter": "python",
   "pygments_lexer": "ipython3",
   "version": "3.11.3"
  }
 },
 "nbformat": 4,
 "nbformat_minor": 2
}
